{
  "nbformat": 4,
  "nbformat_minor": 0,
  "metadata": {
    "colab": {
      "provenance": [],
      "authorship_tag": "ABX9TyP/bQzc+/K6cKRsAUTzCnTK",
      "include_colab_link": true
    },
    "kernelspec": {
      "name": "python3",
      "display_name": "Python 3"
    },
    "language_info": {
      "name": "python"
    }
  },
  "cells": [
    {
      "cell_type": "markdown",
      "metadata": {
        "id": "view-in-github",
        "colab_type": "text"
      },
      "source": [
        "<a href=\"https://colab.research.google.com/github/JuanCordobach/Reto-7/blob/main/reto_7.ipynb\" target=\"_parent\"><img src=\"https://colab.research.google.com/assets/colab-badge.svg\" alt=\"Open In Colab\"/></a>"
      ]
    },
    {
      "cell_type": "markdown",
      "source": [
        "Primer punto:\n",
        "Imprime todos los numeros del 1 al 100 con su respectivo cuadrado"
      ],
      "metadata": {
        "id": "DNQUGapWxgLz"
      }
    },
    {
      "cell_type": "code",
      "execution_count": null,
      "metadata": {
        "colab": {
          "base_uri": "https://localhost:8080/"
        },
        "id": "ihvxQ_lWxY_N",
        "outputId": "fdc856f8-f56b-4406-80df-908ba46af6f3"
      },
      "outputs": [
        {
          "output_type": "stream",
          "name": "stdout",
          "text": [
            "1 1\n",
            "2 4\n",
            "3 9\n",
            "4 16\n",
            "5 25\n",
            "6 36\n",
            "7 49\n",
            "8 64\n",
            "9 81\n",
            "10 100\n",
            "11 121\n",
            "12 144\n",
            "13 169\n",
            "14 196\n",
            "15 225\n",
            "16 256\n",
            "17 289\n",
            "18 324\n",
            "19 361\n",
            "20 400\n",
            "21 441\n",
            "22 484\n",
            "23 529\n",
            "24 576\n",
            "25 625\n",
            "26 676\n",
            "27 729\n",
            "28 784\n",
            "29 841\n",
            "30 900\n",
            "31 961\n",
            "32 1024\n",
            "33 1089\n",
            "34 1156\n",
            "35 1225\n",
            "36 1296\n",
            "37 1369\n",
            "38 1444\n",
            "39 1521\n",
            "40 1600\n",
            "41 1681\n",
            "42 1764\n",
            "43 1849\n",
            "44 1936\n",
            "45 2025\n",
            "46 2116\n",
            "47 2209\n",
            "48 2304\n",
            "49 2401\n",
            "50 2500\n",
            "51 2601\n",
            "52 2704\n",
            "53 2809\n",
            "54 2916\n",
            "55 3025\n",
            "56 3136\n",
            "57 3249\n",
            "58 3364\n",
            "59 3481\n",
            "60 3600\n",
            "61 3721\n",
            "62 3844\n",
            "63 3969\n",
            "64 4096\n",
            "65 4225\n",
            "66 4356\n",
            "67 4489\n",
            "68 4624\n",
            "69 4761\n",
            "70 4900\n",
            "71 5041\n",
            "72 5184\n",
            "73 5329\n",
            "74 5476\n",
            "75 5625\n",
            "76 5776\n",
            "77 5929\n",
            "78 6084\n",
            "79 6241\n",
            "80 6400\n",
            "81 6561\n",
            "82 6724\n",
            "83 6889\n",
            "84 7056\n",
            "85 7225\n",
            "86 7396\n",
            "87 7569\n",
            "88 7744\n",
            "89 7921\n",
            "90 8100\n",
            "91 8281\n",
            "92 8464\n",
            "93 8649\n",
            "94 8836\n",
            "95 9025\n",
            "96 9216\n",
            "97 9409\n",
            "98 9604\n",
            "99 9801\n",
            "100 10000\n"
          ]
        }
      ],
      "source": [
        "def mostrar_cuadrados():\n",
        "    # Los números de 1 a 100\n",
        "    for i in range(1, 101):\n",
        "        # Se calcula el cuadrado del número y se imprime\n",
        "        print(i, i**2)\n",
        "\n",
        "# Llamar a la función directamente\n",
        "mostrar_cuadrados()"
      ]
    },
    {
      "cell_type": "markdown",
      "source": [
        "Segundo punto:\n",
        "Imprimir un listado con los números impares desde 1 hasta 999 y seguidamente otro listado con los números pares desde 2 hasta 1000."
      ],
      "metadata": {
        "id": "VmkN59V4xbxD"
      }
    },
    {
      "cell_type": "code",
      "source": [
        "def Numimpares():\n",
        "    pares = []  # Definir lista vacía para pares\n",
        "    impares = []  # Definir lista vacía para impares\n",
        "\n",
        "    # Los números de 1 a 999\n",
        "    for i in range(1, 1000):\n",
        "        if i % 2 != 0:\n",
        "            impares.append(i)  # Agregar número impar (De esta forma se ponen los numeros a la lista, al cumplirse la condicion de arriba se filtran los numeros y el append lo agrega a la lista)\n",
        "        else:\n",
        "            pares.append(i)  # Agregar número par\n",
        "\n",
        "    # Imprimir las listas dentro de la función\n",
        "    print(\"Números impares:\", impares)\n",
        "    print(\"Números pares:\", pares)\n",
        "\n",
        "# Llamar a la función directamente\n",
        "Numimpares()"
      ],
      "metadata": {
        "id": "3qv39kPkDfkN",
        "colab": {
          "base_uri": "https://localhost:8080/"
        },
        "outputId": "f7d6485c-545e-4ae8-d8e1-7237c43e9782"
      },
      "execution_count": null,
      "outputs": [
        {
          "output_type": "stream",
          "name": "stdout",
          "text": [
            "Números impares: [1, 3, 5, 7, 9, 11, 13, 15, 17, 19, 21, 23, 25, 27, 29, 31, 33, 35, 37, 39, 41, 43, 45, 47, 49, 51, 53, 55, 57, 59, 61, 63, 65, 67, 69, 71, 73, 75, 77, 79, 81, 83, 85, 87, 89, 91, 93, 95, 97, 99, 101, 103, 105, 107, 109, 111, 113, 115, 117, 119, 121, 123, 125, 127, 129, 131, 133, 135, 137, 139, 141, 143, 145, 147, 149, 151, 153, 155, 157, 159, 161, 163, 165, 167, 169, 171, 173, 175, 177, 179, 181, 183, 185, 187, 189, 191, 193, 195, 197, 199, 201, 203, 205, 207, 209, 211, 213, 215, 217, 219, 221, 223, 225, 227, 229, 231, 233, 235, 237, 239, 241, 243, 245, 247, 249, 251, 253, 255, 257, 259, 261, 263, 265, 267, 269, 271, 273, 275, 277, 279, 281, 283, 285, 287, 289, 291, 293, 295, 297, 299, 301, 303, 305, 307, 309, 311, 313, 315, 317, 319, 321, 323, 325, 327, 329, 331, 333, 335, 337, 339, 341, 343, 345, 347, 349, 351, 353, 355, 357, 359, 361, 363, 365, 367, 369, 371, 373, 375, 377, 379, 381, 383, 385, 387, 389, 391, 393, 395, 397, 399, 401, 403, 405, 407, 409, 411, 413, 415, 417, 419, 421, 423, 425, 427, 429, 431, 433, 435, 437, 439, 441, 443, 445, 447, 449, 451, 453, 455, 457, 459, 461, 463, 465, 467, 469, 471, 473, 475, 477, 479, 481, 483, 485, 487, 489, 491, 493, 495, 497, 499, 501, 503, 505, 507, 509, 511, 513, 515, 517, 519, 521, 523, 525, 527, 529, 531, 533, 535, 537, 539, 541, 543, 545, 547, 549, 551, 553, 555, 557, 559, 561, 563, 565, 567, 569, 571, 573, 575, 577, 579, 581, 583, 585, 587, 589, 591, 593, 595, 597, 599, 601, 603, 605, 607, 609, 611, 613, 615, 617, 619, 621, 623, 625, 627, 629, 631, 633, 635, 637, 639, 641, 643, 645, 647, 649, 651, 653, 655, 657, 659, 661, 663, 665, 667, 669, 671, 673, 675, 677, 679, 681, 683, 685, 687, 689, 691, 693, 695, 697, 699, 701, 703, 705, 707, 709, 711, 713, 715, 717, 719, 721, 723, 725, 727, 729, 731, 733, 735, 737, 739, 741, 743, 745, 747, 749, 751, 753, 755, 757, 759, 761, 763, 765, 767, 769, 771, 773, 775, 777, 779, 781, 783, 785, 787, 789, 791, 793, 795, 797, 799, 801, 803, 805, 807, 809, 811, 813, 815, 817, 819, 821, 823, 825, 827, 829, 831, 833, 835, 837, 839, 841, 843, 845, 847, 849, 851, 853, 855, 857, 859, 861, 863, 865, 867, 869, 871, 873, 875, 877, 879, 881, 883, 885, 887, 889, 891, 893, 895, 897, 899, 901, 903, 905, 907, 909, 911, 913, 915, 917, 919, 921, 923, 925, 927, 929, 931, 933, 935, 937, 939, 941, 943, 945, 947, 949, 951, 953, 955, 957, 959, 961, 963, 965, 967, 969, 971, 973, 975, 977, 979, 981, 983, 985, 987, 989, 991, 993, 995, 997, 999]\n",
            "Números pares: [2, 4, 6, 8, 10, 12, 14, 16, 18, 20, 22, 24, 26, 28, 30, 32, 34, 36, 38, 40, 42, 44, 46, 48, 50, 52, 54, 56, 58, 60, 62, 64, 66, 68, 70, 72, 74, 76, 78, 80, 82, 84, 86, 88, 90, 92, 94, 96, 98, 100, 102, 104, 106, 108, 110, 112, 114, 116, 118, 120, 122, 124, 126, 128, 130, 132, 134, 136, 138, 140, 142, 144, 146, 148, 150, 152, 154, 156, 158, 160, 162, 164, 166, 168, 170, 172, 174, 176, 178, 180, 182, 184, 186, 188, 190, 192, 194, 196, 198, 200, 202, 204, 206, 208, 210, 212, 214, 216, 218, 220, 222, 224, 226, 228, 230, 232, 234, 236, 238, 240, 242, 244, 246, 248, 250, 252, 254, 256, 258, 260, 262, 264, 266, 268, 270, 272, 274, 276, 278, 280, 282, 284, 286, 288, 290, 292, 294, 296, 298, 300, 302, 304, 306, 308, 310, 312, 314, 316, 318, 320, 322, 324, 326, 328, 330, 332, 334, 336, 338, 340, 342, 344, 346, 348, 350, 352, 354, 356, 358, 360, 362, 364, 366, 368, 370, 372, 374, 376, 378, 380, 382, 384, 386, 388, 390, 392, 394, 396, 398, 400, 402, 404, 406, 408, 410, 412, 414, 416, 418, 420, 422, 424, 426, 428, 430, 432, 434, 436, 438, 440, 442, 444, 446, 448, 450, 452, 454, 456, 458, 460, 462, 464, 466, 468, 470, 472, 474, 476, 478, 480, 482, 484, 486, 488, 490, 492, 494, 496, 498, 500, 502, 504, 506, 508, 510, 512, 514, 516, 518, 520, 522, 524, 526, 528, 530, 532, 534, 536, 538, 540, 542, 544, 546, 548, 550, 552, 554, 556, 558, 560, 562, 564, 566, 568, 570, 572, 574, 576, 578, 580, 582, 584, 586, 588, 590, 592, 594, 596, 598, 600, 602, 604, 606, 608, 610, 612, 614, 616, 618, 620, 622, 624, 626, 628, 630, 632, 634, 636, 638, 640, 642, 644, 646, 648, 650, 652, 654, 656, 658, 660, 662, 664, 666, 668, 670, 672, 674, 676, 678, 680, 682, 684, 686, 688, 690, 692, 694, 696, 698, 700, 702, 704, 706, 708, 710, 712, 714, 716, 718, 720, 722, 724, 726, 728, 730, 732, 734, 736, 738, 740, 742, 744, 746, 748, 750, 752, 754, 756, 758, 760, 762, 764, 766, 768, 770, 772, 774, 776, 778, 780, 782, 784, 786, 788, 790, 792, 794, 796, 798, 800, 802, 804, 806, 808, 810, 812, 814, 816, 818, 820, 822, 824, 826, 828, 830, 832, 834, 836, 838, 840, 842, 844, 846, 848, 850, 852, 854, 856, 858, 860, 862, 864, 866, 868, 870, 872, 874, 876, 878, 880, 882, 884, 886, 888, 890, 892, 894, 896, 898, 900, 902, 904, 906, 908, 910, 912, 914, 916, 918, 920, 922, 924, 926, 928, 930, 932, 934, 936, 938, 940, 942, 944, 946, 948, 950, 952, 954, 956, 958, 960, 962, 964, 966, 968, 970, 972, 974, 976, 978, 980, 982, 984, 986, 988, 990, 992, 994, 996, 998]\n"
          ]
        }
      ]
    },
    {
      "cell_type": "markdown",
      "source": [
        "Tercer punto:\n",
        "Imprimir los números pares en forma descendente hasta 2 que son menores o iguales a un número natural n ≥ 2 dado"
      ],
      "metadata": {
        "id": "Wd3j7Qk88rpL"
      }
    },
    {
      "cell_type": "code",
      "source": [
        "n = int(input(\"Introduce un número: \"))\n",
        "\n",
        "def numerospares(n): #se le da nombre a la funcion\n",
        "    pares = [] #Se crea una lista para los numeros\n",
        "    # Ajustar el rango para que sea descendente y se incluya n\n",
        "    for i in range(n, 1, -1):  # Desde n hasta 2 (sin incluir 1)\n",
        "        if i % 2 == 0:  # Verificar si el número es par\n",
        "            pares.append(i)# al igual que el punto anterior se colocan en la lista usando el .append\n",
        "    print(pares)\n",
        "\n",
        "# Llamar a la función pasando el argumento n\n",
        "numerospares(n)\n"
      ],
      "metadata": {
        "colab": {
          "base_uri": "https://localhost:8080/"
        },
        "id": "wQV3tE7D802D",
        "outputId": "8b6b953c-1045-4909-8af5-bd83ddd1887c"
      },
      "execution_count": null,
      "outputs": [
        {
          "output_type": "stream",
          "name": "stdout",
          "text": [
            "Introduce un número: 12\n",
            "[12, 10, 8, 6, 4, 2]\n"
          ]
        }
      ]
    },
    {
      "cell_type": "markdown",
      "source": [
        "Cuarto Punto:Imprimir los números de 1 hasta un número natural n dado, cada uno con su respectivo factorial"
      ],
      "metadata": {
        "id": "k8OrjpjDRU_g"
      }
    },
    {
      "cell_type": "code",
      "source": [
        "n = int(input(\"Introduce un número: \")) #se da la opcion de que el usuario ingrese el numero con el que se hara el codigo\n",
        "\n",
        "def factorial(x):# se define la funcion\n",
        "    resultado = 1 # se da como valor inicial 1 ya que cada numero pasa por 1 al momento de calcular su factorial\n",
        "    for i in range(1, x + 1):# se usa un buble for que pasa desde 1 hasta un numero x incluyendolo\n",
        "        resultado *= i # Aqui se expesa que se multiplica el resultado con el numero que da la linea de arriba\n",
        "    return resultado #Apenas arroja el recultado aplica el return  con a resultado\n",
        "\n",
        "def factores(n): #Se define la funcion\n",
        "    for i in range(1, n + 1):  # Incluye el número n\n",
        "        print(f\"{i}! = {factorial(i)}\") #Aqui unicamente se esta dando a imprimir los numeros que se escogieron, toda la operacion se hizo en la funcion de arriba\n",
        "\n",
        "# Llamar a la función\n",
        "factores(n)\n",
        "\n"
      ],
      "metadata": {
        "id": "HynIXgceRhDh",
        "colab": {
          "base_uri": "https://localhost:8080/"
        },
        "outputId": "0aab3615-a279-492e-bbf5-bc7a668224a1"
      },
      "execution_count": null,
      "outputs": [
        {
          "output_type": "stream",
          "name": "stdout",
          "text": [
            "Introduce un número: 30\n",
            "1! = 1\n",
            "2! = 2\n",
            "3! = 6\n",
            "4! = 24\n",
            "5! = 120\n",
            "6! = 720\n",
            "7! = 5040\n",
            "8! = 40320\n",
            "9! = 362880\n",
            "10! = 3628800\n",
            "11! = 39916800\n",
            "12! = 479001600\n",
            "13! = 6227020800\n",
            "14! = 87178291200\n",
            "15! = 1307674368000\n",
            "16! = 20922789888000\n",
            "17! = 355687428096000\n",
            "18! = 6402373705728000\n",
            "19! = 121645100408832000\n",
            "20! = 2432902008176640000\n",
            "21! = 51090942171709440000\n",
            "22! = 1124000727777607680000\n",
            "23! = 25852016738884976640000\n",
            "24! = 620448401733239439360000\n",
            "25! = 15511210043330985984000000\n",
            "26! = 403291461126605635584000000\n",
            "27! = 10888869450418352160768000000\n",
            "28! = 304888344611713860501504000000\n",
            "29! = 8841761993739701954543616000000\n",
            "30! = 265252859812191058636308480000000\n"
          ]
        }
      ]
    },
    {
      "cell_type": "markdown",
      "source": [
        "Quinto punto:Calcular el valor de 2 elevado a la potencia n usando ciclos for."
      ],
      "metadata": {
        "id": "RWPdcRJocl_Y"
      }
    },
    {
      "cell_type": "code",
      "source": [
        "n = int(input(\"Introduce un número: \")) #Se le da la opcion al usuario de poner el numero\n",
        "\n",
        "def elevado(x): # Se define la funcion\n",
        "    resultado = 1  # Inicializamos el resultado en 1 pq es un numero nutro en multiplicacion y eso nos permite acumularlo en el ciclo for\n",
        "    for _ in range(x):  # Iteramos x veces\n",
        "        resultado *= 2  # Multiplicamos el resultado por 2 en cada iteración\n",
        "    return resultado\n",
        "\n",
        "# Llamamos a la función y mostramos el resultado\n",
        "print(f\"2 elevado a la potencia {n} es: {elevado(n)}\")\n"
      ],
      "metadata": {
        "colab": {
          "base_uri": "https://localhost:8080/"
        },
        "id": "DCUCUobWcr7w",
        "outputId": "8db923cd-36a3-4ad8-ae84-654e09725bdb"
      },
      "execution_count": null,
      "outputs": [
        {
          "output_type": "stream",
          "name": "stdout",
          "text": [
            "Introduce un número: 123\n",
            "2 elevado a la potencia 123 es: 10633823966279326983230456482242756608\n"
          ]
        }
      ]
    },
    {
      "cell_type": "markdown",
      "source": [
        "Sexto punto :Leer un número natural n, leer otro dato de tipo real x y calcular x^n usando ciclos for. \\ Disclaimer: Trate de no utilizar el operador de potencia (**)."
      ],
      "metadata": {
        "id": "0yCp-3ptodLS"
      }
    },
    {
      "cell_type": "code",
      "source": [
        "n = int(input(\"Introduce un número entero n: \"))  # Número de potencia\n",
        "x = float(input(\"Introduce un número real x: \"))  # Base de tipo real\n",
        "\n",
        "def sinpotencia(x, n): #Definimos la funcion :b\n",
        "    resultado = 1  # Inicializamos el resultado en 1\n",
        "    for _ in range(n):  # Repetimos n veces\n",
        "        resultado *= x  # Multiplicamos el resultado por x en cada iteración\n",
        "    return resultado\n",
        "\n",
        "# Llamamos a la función y mostramos el resultado\n",
        "print(f\"{x} elevado a la potencia {n} es: {sinpotencia(x, n)}\")"
      ],
      "metadata": {
        "colab": {
          "base_uri": "https://localhost:8080/"
        },
        "id": "-mB35J5CooV_",
        "outputId": "01775969-626f-47ee-8cb0-050c99524ba0"
      },
      "execution_count": null,
      "outputs": [
        {
          "output_type": "stream",
          "name": "stdout",
          "text": [
            "Introduce un número entero n: 2\n",
            "Introduce un número real x: 3\n",
            "3.0 elevado a la potencia 2 es: 9.0\n"
          ]
        }
      ]
    },
    {
      "cell_type": "markdown",
      "source": [
        "Septimo punto:Diseñe un programa que muestre las tablas de multiplicar del 1 al 9."
      ],
      "metadata": {
        "id": "0Ju-TY3IvOtD"
      }
    },
    {
      "cell_type": "code",
      "source": [
        "def tablas():\n",
        "  for i in range(1, 10):  # Iteramos sobre los números del 1 al 9\n",
        "    print(f\"Tabla del {i}:\")  # Imprimimos el encabezado de la tabla\n",
        "    for j in range(1, 11):  # Multiplicamos por los números del 1 al 10\n",
        "        print(f\"{i} x {j} = {i * j}\")  # Mostramos el resultado de la multiplicación\n",
        "    print()  # Deja una línea en blanco entre las tablas\n",
        "tablas()"
      ],
      "metadata": {
        "colab": {
          "base_uri": "https://localhost:8080/"
        },
        "id": "slmxKDIOvZ26",
        "outputId": "670087ff-6947-4309-b06a-5b6817886e04"
      },
      "execution_count": null,
      "outputs": [
        {
          "output_type": "stream",
          "name": "stdout",
          "text": [
            "Tabla del 1:\n",
            "1 x 1 = 1\n",
            "1 x 2 = 2\n",
            "1 x 3 = 3\n",
            "1 x 4 = 4\n",
            "1 x 5 = 5\n",
            "1 x 6 = 6\n",
            "1 x 7 = 7\n",
            "1 x 8 = 8\n",
            "1 x 9 = 9\n",
            "1 x 10 = 10\n",
            "\n",
            "Tabla del 2:\n",
            "2 x 1 = 2\n",
            "2 x 2 = 4\n",
            "2 x 3 = 6\n",
            "2 x 4 = 8\n",
            "2 x 5 = 10\n",
            "2 x 6 = 12\n",
            "2 x 7 = 14\n",
            "2 x 8 = 16\n",
            "2 x 9 = 18\n",
            "2 x 10 = 20\n",
            "\n",
            "Tabla del 3:\n",
            "3 x 1 = 3\n",
            "3 x 2 = 6\n",
            "3 x 3 = 9\n",
            "3 x 4 = 12\n",
            "3 x 5 = 15\n",
            "3 x 6 = 18\n",
            "3 x 7 = 21\n",
            "3 x 8 = 24\n",
            "3 x 9 = 27\n",
            "3 x 10 = 30\n",
            "\n",
            "Tabla del 4:\n",
            "4 x 1 = 4\n",
            "4 x 2 = 8\n",
            "4 x 3 = 12\n",
            "4 x 4 = 16\n",
            "4 x 5 = 20\n",
            "4 x 6 = 24\n",
            "4 x 7 = 28\n",
            "4 x 8 = 32\n",
            "4 x 9 = 36\n",
            "4 x 10 = 40\n",
            "\n",
            "Tabla del 5:\n",
            "5 x 1 = 5\n",
            "5 x 2 = 10\n",
            "5 x 3 = 15\n",
            "5 x 4 = 20\n",
            "5 x 5 = 25\n",
            "5 x 6 = 30\n",
            "5 x 7 = 35\n",
            "5 x 8 = 40\n",
            "5 x 9 = 45\n",
            "5 x 10 = 50\n",
            "\n",
            "Tabla del 6:\n",
            "6 x 1 = 6\n",
            "6 x 2 = 12\n",
            "6 x 3 = 18\n",
            "6 x 4 = 24\n",
            "6 x 5 = 30\n",
            "6 x 6 = 36\n",
            "6 x 7 = 42\n",
            "6 x 8 = 48\n",
            "6 x 9 = 54\n",
            "6 x 10 = 60\n",
            "\n",
            "Tabla del 7:\n",
            "7 x 1 = 7\n",
            "7 x 2 = 14\n",
            "7 x 3 = 21\n",
            "7 x 4 = 28\n",
            "7 x 5 = 35\n",
            "7 x 6 = 42\n",
            "7 x 7 = 49\n",
            "7 x 8 = 56\n",
            "7 x 9 = 63\n",
            "7 x 10 = 70\n",
            "\n",
            "Tabla del 8:\n",
            "8 x 1 = 8\n",
            "8 x 2 = 16\n",
            "8 x 3 = 24\n",
            "8 x 4 = 32\n",
            "8 x 5 = 40\n",
            "8 x 6 = 48\n",
            "8 x 7 = 56\n",
            "8 x 8 = 64\n",
            "8 x 9 = 72\n",
            "8 x 10 = 80\n",
            "\n",
            "Tabla del 9:\n",
            "9 x 1 = 9\n",
            "9 x 2 = 18\n",
            "9 x 3 = 27\n",
            "9 x 4 = 36\n",
            "9 x 5 = 45\n",
            "9 x 6 = 54\n",
            "9 x 7 = 63\n",
            "9 x 8 = 72\n",
            "9 x 9 = 81\n",
            "9 x 10 = 90\n",
            "\n"
          ]
        }
      ]
    },
    {
      "cell_type": "markdown",
      "source": [
        "Octavo punto: Diseñar una función que permita calcular una aproximación de la función exponencial alrededor de 0 para cualquier valor x (real), utilizando los primeros n términos de la serie de Taylor. Nota: use math para traer la función exponencial y mostrar la diferencia entre el valor real y la aproximación.\n",
        "e\n",
        "x\n",
        "≈\n",
        "e\n",
        "x\n",
        "p\n",
        "(\n",
        "x\n",
        ",\n",
        "n\n",
        ")\n",
        "≈\n",
        "∑\n",
        "i\n",
        "=\n",
        "0\n",
        "n\n",
        "x\n",
        "i\n",
        "i\n",
        "!"
      ],
      "metadata": {
        "id": "1ZYouFu1yq31"
      }
    },
    {
      "cell_type": "code",
      "source": [
        "import math\n",
        "\n",
        "def exp(x, n):\n",
        "    \"\"\"\n",
        "    Aproxima la función exponencial e^x usando los primeros n términos de la serie de Taylor.\n",
        "    \"\"\"\n",
        "    # Inicializa la variable para acumular la suma de la serie de Taylor.\n",
        "    aproximacion = 0\n",
        "    # Recorre los términos desde 0 hasta n para calcular la suma de la serie.\n",
        "    for i in range(n + 1):\n",
        "        aproximacion += (x ** i) / math.factorial(i)\n",
        "\n",
        "    return aproximacion\n",
        "\n",
        "\n",
        "if __name__ == \"__main__\":\n",
        "    try: # Este bloque se usa para intentar una serie de instrucciones que puedan generar un error\n",
        "        # Solicita al usuario el valor de x y n.\n",
        "        x = float(input(\"Ingrese el valor de x (número real): \"))\n",
        "        n = int(input(\"Ingrese el número de términos n (entero positivo): \"))\n",
        "\n",
        "        # Verifica si el número de términos es válido (entero positivo).\n",
        "        if n < 0:\n",
        "            raise ValueError(\"El número de términos n debe ser un entero positivo.\")# Este bloque permite manejar errores que sucedan por culpa del usuario(de esta forma el codigo no se cierra si la persona pone por ejemplo texto en vez de numeros arriba)\n",
        "\n",
        "        # Calcula la aproximación de e^x.\n",
        "        aproximacion = exp(x, n)\n",
        "        # Calcula el valor exacto de e^x para comparar con la aproximación.\n",
        "        exact_value = math.exp(x)\n",
        "\n",
        "        print(f\"Aproximación de e^{x} usando {n} términos: {approximation}\")\n",
        "        print(f\"Valor exacto de e^{x}: {exact_value}\")\n",
        "        print(f\"Diferencia: {abs(exact_value - approximation)}\")\n",
        "\n",
        "    except ValueError as e:\n",
        "        # Muestra un mensaje de error claro si los valores ingresados no son válidos.\n",
        "        print(f\"Error: {e}. Por favor, ingrese valores válidos.\")\n"
      ],
      "metadata": {
        "id": "xoKZK_PKyx13",
        "colab": {
          "base_uri": "https://localhost:8080/"
        },
        "outputId": "39b47042-e6a3-4804-8c62-63491e07282a"
      },
      "execution_count": null,
      "outputs": [
        {
          "output_type": "stream",
          "name": "stdout",
          "text": [
            "Ingrese el valor de x (número real): 3\n",
            "Ingrese el número de términos n (entero positivo): 5\n",
            "Aproximación de e^3.0 usando 5 términos: 18.4\n",
            "Valor exacto de e^3.0: 20.085536923187668\n",
            "Diferencia: 1.6855369231876693\n"
          ]
        }
      ]
    },
    {
      "cell_type": "markdown",
      "source": [
        "Noveno Punto: Diseñar una función que permita calcular una aproximación de la función seno alrededor de 0 para cualquier valor x (real), utilizando los primeros n términos de la serie de Maclaurin. Nota: use math para traer la función seno y mostrar la diferencia entre el valor real y la aproximación."
      ],
      "metadata": {
        "id": "aVODXcJBI8sG"
      }
    },
    {
      "cell_type": "code",
      "source": [
        "import math\n",
        "\n",
        "# Se define una función\n",
        "def aproximacion_seno(x, n):\n",
        "    # Se calcula el valor real de seno usando math.sin para comparar después\n",
        "    real_sin = math.sin(x)\n",
        "\n",
        "    # Se inicia la aproximación en 0\n",
        "    aproximacion = 0\n",
        "\n",
        "    # Se usa una variable para alternar el signo de los términos (+/-)\n",
        "    signo = 1\n",
        "\n",
        "    # Iteramos sobre los primeros n términos de la serie\n",
        "    for i in range(n):\n",
        "        # Calculamos el término actual de la serie: x^(2*i + 1) / (2*i + 1)!\n",
        "        termino = (x**(2*i + 1)) / math.factorial(2*i + 1)\n",
        "\n",
        "        # Suma o resta el término a la aproximación\n",
        "        aproximacion += signo * termino\n",
        "\n",
        "        # Se altera el signo para el siguiente término\n",
        "        signo *= -1\n",
        "\n",
        "    # Calculamos la diferencia entre el valor real y la aproximación\n",
        "    diferencia = abs(real_sin - aproximacion)\n",
        "\n",
        "    # Retornamos la aproximación y la diferencia\n",
        "    return aproximacion, diferencia\n",
        "\n",
        "# Ejemplo de uso:\n",
        "x = 1.5  # Valor de x para el cual queremos aproximar el seno\n",
        "n = 5    # Número de términos de la serie de Maclaurin a utilizar\n",
        "\n",
        "# Llamamos a la función con los valores definidos\n",
        "aproximacion, diferencia = aproximacion_seno(x, n)\n",
        "\n",
        "# Mostramos el resultado de la aproximación\n",
        "print(f\"Aproximación de sen({x}) con {n} términos de la serie de Maclaurin:\", aproximacion)\n",
        "\n",
        "# Mostramos la diferencia entre el valor real y la aproximación\n",
        "print(f\"Diferencia respecto al valor real de sen({x}):\", diferencia)\n"
      ],
      "metadata": {
        "colab": {
          "base_uri": "https://localhost:8080/"
        },
        "id": "_XnwstxtlmAZ",
        "outputId": "25756eb2-fca9-46d7-d441-07826cc4d5bd"
      },
      "execution_count": 1,
      "outputs": [
        {
          "output_type": "stream",
          "name": "stdout",
          "text": [
            "Aproximación de sen(1.5) con 5 términos de la serie de Maclaurin: 0.9974971226283482\n",
            "Diferencia respecto al valor real de sen(1.5): 2.1360242937751295e-06\n"
          ]
        }
      ]
    }
  ]
}